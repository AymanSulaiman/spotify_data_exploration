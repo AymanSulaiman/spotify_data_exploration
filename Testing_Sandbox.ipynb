{
 "cells": [
  {
   "cell_type": "code",
   "execution_count": 1,
   "metadata": {},
   "outputs": [],
   "source": [
    "import pandas as pd\n",
    "import numpy as np\n",
    "import scipy.stats as stats\n",
    "import seaborn as sns\n",
    "from api_keys import Client_ID, Client_Secret, Username, redirect_uri\n",
    "import sys\n",
    "import spotipy\n",
    "import spotipy.util as util\n",
    "from spotipy.oauth2 import SpotifyClientCredentials\n",
    "import json\n",
    "from pprint import pprint"
   ]
  },
  {
   "cell_type": "code",
   "execution_count": 2,
   "metadata": {},
   "outputs": [],
   "source": [
    "client_credentials_manager=SpotifyClientCredentials(client_id=Client_ID, client_secret=Client_Secret)\n",
    "sp = spotipy.Spotify(client_credentials_manager=client_credentials_manager)"
   ]
  },
  {
   "cell_type": "code",
   "execution_count": 3,
   "metadata": {},
   "outputs": [
    {
     "name": "stdout",
     "output_type": "stream",
     "text": [
      "it works\n"
     ]
    }
   ],
   "source": [
    "token = util.prompt_for_user_token(username=Username,\n",
    "                           scope=None,\n",
    "                           client_id=Client_ID,\n",
    "                           client_secret=Client_Secret,\n",
    "                           redirect_uri=redirect_uri)\n",
    "if token == token:\n",
    "    print('It works')"
   ]
  },
  {
   "cell_type": "code",
   "execution_count": 4,
   "metadata": {},
   "outputs": [],
   "source": [
    "# This is to get Led Zeplin names, url, and image url\n",
    "# lz_uri = 'spotify:artist:36QJpDe2go2KgaRleHCDTp'\n",
    "# results = spotify.artist_top_tracks(lz_uri)\n",
    "\n",
    "# for track in results['tracks'][:10]:\n",
    "#     print('track    : ' + track['name'])\n",
    "#     print('audio    : ' + track['preview_url'])\n",
    "#     print('cover art: ' + track['album']['images'][0]['url'])\n",
    "#     print()\n",
    "# v = 'https://open.spotify.com/playlist/7AfWDGHu83rrBqvpg9reh9?si=XaBWARddRPGVfQBIvSJEvw'\n",
    "# m = 'https://open.spotify.com/playlist/37i9dQZF1DX8CopunbDxgW?si=_cGN7PBeTrC51OmQYNg5pA'"
   ]
  },
  {
   "cell_type": "code",
   "execution_count": 5,
   "metadata": {},
   "outputs": [],
   "source": [
    "# metropolis = 'spotify:playlist:37i9dQZF1DX8CopunbDxgW'\n",
    "# metropolis = '37i9dQZF1DX8CopunbDxgW'# This I like\n",
    "# vapourwave = 'spotify:playlist:7AfWDGHu83rrBqvpg9reh9' # This I do not like"
   ]
  },
  {
   "cell_type": "code",
   "execution_count": 6,
   "metadata": {},
   "outputs": [],
   "source": [
    "# results_m = sp.audio_features(metropolis)\n",
    "\n",
    "# print(results_m)"
   ]
  },
  {
   "cell_type": "code",
   "execution_count": null,
   "metadata": {},
   "outputs": [],
   "source": []
  },
  {
   "cell_type": "code",
   "execution_count": null,
   "metadata": {},
   "outputs": [],
   "source": []
  },
  {
   "cell_type": "code",
   "execution_count": null,
   "metadata": {},
   "outputs": [],
   "source": []
  },
  {
   "cell_type": "code",
   "execution_count": null,
   "metadata": {},
   "outputs": [],
   "source": []
  },
  {
   "cell_type": "code",
   "execution_count": null,
   "metadata": {},
   "outputs": [],
   "source": []
  },
  {
   "cell_type": "code",
   "execution_count": null,
   "metadata": {},
   "outputs": [],
   "source": []
  },
  {
   "cell_type": "code",
   "execution_count": null,
   "metadata": {},
   "outputs": [],
   "source": []
  },
  {
   "cell_type": "code",
   "execution_count": null,
   "metadata": {},
   "outputs": [],
   "source": []
  }
 ],
 "metadata": {
  "kernelspec": {
   "display_name": "Python 3",
   "language": "python",
   "name": "python3"
  },
  "language_info": {
   "codemirror_mode": {
    "name": "ipython",
    "version": 3
   },
   "file_extension": ".py",
   "mimetype": "text/x-python",
   "name": "python",
   "nbconvert_exporter": "python",
   "pygments_lexer": "ipython3",
   "version": "3.7.7"
  }
 },
 "nbformat": 4,
 "nbformat_minor": 4
}
